{
 "cells": [
  {
   "cell_type": "code",
   "execution_count": 10,
   "id": "3097c5aa-d581-4aba-84e7-da7c5bb954b2",
   "metadata": {},
   "outputs": [],
   "source": [
    "## Data Science Tools and Ecosystem"
   ]
  },
  {
   "cell_type": "code",
   "execution_count": 12,
   "id": "f1a1139f-425f-445d-bfde-de1a31bbc7a5",
   "metadata": {},
   "outputs": [],
   "source": [
    "# In this notebook, Data Science Tools and Ecosystem are summarized."
   ]
  },
  {
   "cell_type": "code",
   "execution_count": 3,
   "id": "1a810193-7df1-4a58-a660-dfd0564b432f",
   "metadata": {},
   "outputs": [],
   "source": [
    "# Some of the popular languages that Data Scientists use are:\n",
    "#1 Python#2 The R statistical language\n",
    "#3 Java"
   ]
  },
  {
   "cell_type": "code",
   "execution_count": 5,
   "id": "8f546eb2-1588-42ef-8722-c7e3a6bcca55",
   "metadata": {},
   "outputs": [],
   "source": [
    "# Data science libraries\n",
    "# NumPy\n",
    "#1 Panda\n",
    "#2 Matlab\n",
    "#3 NumPy"
   ]
  },
  {
   "cell_type": "code",
   "execution_count": 8,
   "id": "3fb23287-bec4-4766-8f05-684bca526442",
   "metadata": {},
   "outputs": [],
   "source": [
    "#| Data Science Tools |\n",
    "#|--------------------|\n",
    "#| Python             |\n",
    "#| Apache Spark       |\n",
    "#| Matlab             |\n",
    "#| GitHub             |"
   ]
  },
  {
   "cell_type": "code",
   "execution_count": 1,
   "id": "0298db01-017c-4ccb-b659-2301e7f2c12f",
   "metadata": {
    "panel-layout": {
     "height": 27.13888931274414,
     "visible": true,
     "width": 100
    }
   },
   "outputs": [
    {
     "data": {
      "text/plain": [
       "17"
      ]
     },
     "execution_count": 1,
     "metadata": {},
     "output_type": "execute_result"
    }
   ],
   "source": [
    "### Below are a few examples of evaluating arithmetic expressions in Python\n",
    "\n",
    "(3*4)+5 #This a simple arithmetic expression to mutiply then add integers\n"
   ]
  },
  {
   "cell_type": "code",
   "execution_count": 38,
   "id": "c2c588ad-f8bc-412a-9833-01a96e43126b",
   "metadata": {
    "panel-layout": {
     "height": 27.13888931274414,
     "visible": true,
     "width": 100
    }
   },
   "outputs": [
    {
     "data": {
      "text/plain": [
       "3.3333333333333335"
      ]
     },
     "execution_count": 38,
     "metadata": {},
     "output_type": "execute_result"
    }
   ],
   "source": [
    "(200)/60 #This will convert 200 minutes to hours by diving by 60"
   ]
  },
  {
   "cell_type": "code",
   "execution_count": 40,
   "id": "7a7dc557-2343-4e05-af43-34610db2cc85",
   "metadata": {},
   "outputs": [],
   "source": [
    "# Objectives:\n",
    "## unordered list\n",
    "# 1 Python\n",
    "# 2 The R statistical language\n",
    "# 3 Java"
   ]
  },
  {
   "cell_type": "code",
   "execution_count": 7,
   "id": "c7c0cba2-c54f-4ed2-ae15-fd7c03ad4f28",
   "metadata": {},
   "outputs": [],
   "source": [
    "## Author\n",
    "## Name - Data Science Tool Assignments\n",
    "## Author - Sandipan Ray Chaudhury"
   ]
  },
  {
   "cell_type": "code",
   "execution_count": null,
   "id": "1513359c-cf04-48bd-b54c-b57b68b0c927",
   "metadata": {},
   "outputs": [],
   "source": []
  },
  {
   "cell_type": "code",
   "execution_count": null,
   "id": "74b605db-5fdf-49df-95d6-8cc64df584cb",
   "metadata": {},
   "outputs": [],
   "source": []
  },
  {
   "cell_type": "code",
   "execution_count": null,
   "id": "490de685-972b-4bfb-bf54-a62d0adb82da",
   "metadata": {},
   "outputs": [],
   "source": []
  }
 ],
 "metadata": {
  "kernelspec": {
   "display_name": "Python 3 (ipykernel)",
   "language": "python",
   "name": "python3"
  },
  "language_info": {
   "codemirror_mode": {
    "name": "ipython",
    "version": 3
   },
   "file_extension": ".py",
   "mimetype": "text/x-python",
   "name": "python",
   "nbconvert_exporter": "python",
   "pygments_lexer": "ipython3",
   "version": "3.12.4"
  },
  "panel-cell-order": [
   "0298db01-017c-4ccb-b659-2301e7f2c12f",
   "c2c588ad-f8bc-412a-9833-01a96e43126b"
  ]
 },
 "nbformat": 4,
 "nbformat_minor": 5
}
